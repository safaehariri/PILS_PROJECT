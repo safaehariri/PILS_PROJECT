{
  "nbformat": 4,
  "nbformat_minor": 0,
  "metadata": {
    "colab": {
      "provenance": []
    },
    "kernelspec": {
      "name": "python3",
      "display_name": "Python 3"
    },
    "language_info": {
      "name": "python"
    }
  },
  "cells": [
    {
      "cell_type": "code",
      "execution_count": 1,
      "metadata": {
        "colab": {
          "base_uri": "https://localhost:8080/"
        },
        "id": "FE_SvdhhW9Fz",
        "outputId": "b0b4f5ea-41d5-4589-e221-00e84c031d13"
      },
      "outputs": [
        {
          "output_type": "stream",
          "name": "stdout",
          "text": [
            "Collecting retrying\n",
            "  Downloading retrying-1.3.4-py3-none-any.whl (11 kB)\n",
            "Requirement already satisfied: six>=1.7.0 in /usr/local/lib/python3.10/dist-packages (from retrying) (1.16.0)\n",
            "Installing collected packages: retrying\n",
            "Successfully installed retrying-1.3.4\n",
            "Collecting fake_useragent\n",
            "  Downloading fake_useragent-1.3.0-py3-none-any.whl (15 kB)\n",
            "Installing collected packages: fake_useragent\n",
            "Successfully installed fake_useragent-1.3.0\n"
          ]
        }
      ],
      "source": [
        "!pip install retrying\n",
        "!pip install fake_useragent\n",
        "from bs4 import BeautifulSoup\n",
        "from retrying import retry\n",
        "import requests\n",
        "import pandas as pd\n",
        "import sys\n",
        "import time\n",
        "import random\n",
        "from urllib.parse import quote\n",
        "from fake_useragent import UserAgent\n"
      ]
    },
    {
      "cell_type": "code",
      "source": [
        "URL = \"https://www.amazon.com/Apple-iPhone-11-64GB-Black/dp/B07ZPKN6YR/ref=sr_1_1?crid=39DAZO9YLWW6V&keywords=iphone&qid=1700427702&sprefix=iphone%2Caps%2C331&sr=8-1&th=1\"\n",
        "HEADERS = {\n",
        "    'User-Agent': 'Mozilla/5.0 (Windows NT 10.0; Win64; x64) AppleWebKit/537.36 (KHTML, like Gecko) Chrome/58.0.3029.110 Safari/537.3',\n",
        "    'Accept-Language': 'en-US, en;q=0.5'\n",
        "}\n",
        "# Créez une instance de UserAgent\n",
        "ua = UserAgent()"
      ],
      "metadata": {
        "id": "1DAA1n9dXZY7"
      },
      "execution_count": 9,
      "outputs": []
    },
    {
      "cell_type": "code",
      "source": [
        "webpage = requests.get(URL, headers=HEADERS)\n",
        "print(webpage.status_code)"
      ],
      "metadata": {
        "colab": {
          "base_uri": "https://localhost:8080/"
        },
        "id": "oTZB88JcXeeW",
        "outputId": "2f969d23-e345-408b-da4a-12dc18aa8bf1"
      },
      "execution_count": 11,
      "outputs": [
        {
          "output_type": "stream",
          "name": "stdout",
          "text": [
            "200\n"
          ]
        }
      ]
    },
    {
      "cell_type": "code",
      "source": [
        "soup = BeautifulSoup(webpage.content, \"html.parser\")\n",
        "reviews = []\n",
        "link = []\n",
        "for b in soup.findAll(\"a\", {'data-hook': \"see-all-reviews-link-foot\"}):\n",
        "  link.append(b['href'])\n",
        "print(\"links\", link)"
      ],
      "metadata": {
        "colab": {
          "base_uri": "https://localhost:8080/"
        },
        "id": "uEIVeJBfXmk9",
        "outputId": "4ae6767c-2054-4c8a-d786-cdce5e09fb0d"
      },
      "execution_count": 12,
      "outputs": [
        {
          "output_type": "stream",
          "name": "stdout",
          "text": [
            "links ['/Apple-iPhone-11-64GB-Black/product-reviews/B07ZPKN6YR?reviewerType=all_reviews', '/Apple-iPhone-11-64GB-Black/product-reviews/B07ZPKN6YR?reviewerType=all_reviews']\n"
          ]
        }
      ]
    },
    {
      "cell_type": "code",
      "source": [
        "# Function to make a request using Crawlbase\n",
        "CRAWLBASE_TOKEN = '6CtC079r3M21jspX_DPN2g'  # Your Crawlbase token\n",
        "def make_request(url):\n",
        "    encoded_url = quote(url, safe='')\n",
        "    crawlbase_url = f'https://api.crawlbase.com/?token={CRAWLBASE_TOKEN}&url={encoded_url}'\n",
        "    response = requests.get(crawlbase_url, headers={'User-Agent': ua.random})\n",
        "    return response"
      ],
      "metadata": {
        "id": "4QN3oG5lXrWp"
      },
      "execution_count": 14,
      "outputs": []
    },
    {
      "cell_type": "code",
      "source": [
        "from concurrent.futures import ThreadPoolExecutor\n",
        "\n",
        "# Your other functions and imports...\n",
        "\n",
        "MAX_RETRIES = 2\n",
        "RETRY_SLEEP_SECONDS = 2\n",
        "\n",
        "def make_request_with_retry(url):\n",
        "    for attempt in range(MAX_RETRIES):\n",
        "        page = make_request(url)\n",
        "\n",
        "        if page.status_code == 200:\n",
        "            return page\n",
        "        else:\n",
        "            print(f\"Error fetching page {url} - Attempt {attempt + 1} - Status Code: {page.status_code}\")\n",
        "            #print(\"Response Body:\", page.text)\n",
        "            time.sleep(RETRY_SLEEP_SECONDS)\n",
        "\n",
        "    print(f\"Failed to fetch page {url} after {MAX_RETRIES} attempts.\")\n",
        "    return None\n",
        "\n",
        "def process_page(url):\n",
        "    page = make_request_with_retry(url)\n",
        "\n",
        "    if page is not None and page.status_code == 200:\n",
        "        print(\"Page\", url, \"fetched successfully\")\n",
        "        soup = BeautifulSoup(page.content, \"html.parser\")\n",
        "\n",
        "        new_reviews = [i.text for i in soup.findAll(\"span\", {'data-hook': \"review-body\"})]\n",
        "        if not new_reviews:\n",
        "            print(\"No new reviews found on page\", url)\n",
        "            return None\n",
        "\n",
        "        time.sleep(random.uniform(2, 4))\n",
        "        return new_reviews\n",
        "    else:\n",
        "        return None\n",
        "\n",
        "if link:\n",
        "    new_link = \"https://www.amazon.com\" + link[0]\n",
        "    urls = [new_link + f'&pageNumber={k}' for k in range(1, 13)]  # Adjust the range as needed\n",
        "\n",
        "    with ThreadPoolExecutor(max_workers=5) as executor:  # Adjust the number of workers as needed\n",
        "        reviews = list(filter(None, executor.map(process_page, urls)))\n",
        "\n",
        "    if reviews:\n",
        "        reviews = [review for sublist in reviews for review in sublist]\n",
        "        rev = {'reviews': reviews}\n",
        "        review_data = pd.DataFrame.from_dict(rev)\n",
        "        review_data.to_csv(\"amazon_data.csv\", header=True, index=False)\n",
        "        print(\"Total reviews collected:\", len(reviews))\n",
        "    else:\n",
        "        print(\"No reviews collected.\")\n",
        "else:\n",
        "    print(\"Error fetching initial page - Status Code:\", webpage.status_code)"
      ],
      "metadata": {
        "colab": {
          "base_uri": "https://localhost:8080/"
        },
        "id": "Nn_ntqSwXvvG",
        "outputId": "ea8bc4a5-b4a2-4f85-ab44-13c74cbbbd9a"
      },
      "execution_count": 19,
      "outputs": [
        {
          "output_type": "stream",
          "name": "stdout",
          "text": [
            "Page https://www.amazon.com/Apple-iPhone-11-64GB-Black/product-reviews/B07ZPKN6YR?reviewerType=all_reviews&pageNumber=2 fetched successfully\n",
            "Page https://www.amazon.com/Apple-iPhone-11-64GB-Black/product-reviews/B07ZPKN6YR?reviewerType=all_reviews&pageNumber=5 fetched successfully\n",
            "Page https://www.amazon.com/Apple-iPhone-11-64GB-Black/product-reviews/B07ZPKN6YR?reviewerType=all_reviews&pageNumber=6 fetched successfully\n",
            "Page https://www.amazon.com/Apple-iPhone-11-64GB-Black/product-reviews/B07ZPKN6YR?reviewerType=all_reviews&pageNumber=7 fetched successfully\n",
            "Page https://www.amazon.com/Apple-iPhone-11-64GB-Black/product-reviews/B07ZPKN6YR?reviewerType=all_reviews&pageNumber=8 fetched successfully\n",
            "Page https://www.amazon.com/Apple-iPhone-11-64GB-Black/product-reviews/B07ZPKN6YR?reviewerType=all_reviews&pageNumber=9 fetched successfully\n",
            "Page https://www.amazon.com/Apple-iPhone-11-64GB-Black/product-reviews/B07ZPKN6YR?reviewerType=all_reviews&pageNumber=3 fetched successfully\n",
            "Page https://www.amazon.com/Apple-iPhone-11-64GB-Black/product-reviews/B07ZPKN6YR?reviewerType=all_reviews&pageNumber=10 fetched successfully\n",
            "Page https://www.amazon.com/Apple-iPhone-11-64GB-Black/product-reviews/B07ZPKN6YR?reviewerType=all_reviews&pageNumber=12 fetched successfully\n",
            "No new reviews found on page https://www.amazon.com/Apple-iPhone-11-64GB-Black/product-reviews/B07ZPKN6YR?reviewerType=all_reviews&pageNumber=12\n",
            "Page https://www.amazon.com/Apple-iPhone-11-64GB-Black/product-reviews/B07ZPKN6YR?reviewerType=all_reviews&pageNumber=11 fetched successfully\n",
            "No new reviews found on page https://www.amazon.com/Apple-iPhone-11-64GB-Black/product-reviews/B07ZPKN6YR?reviewerType=all_reviews&pageNumber=11\n",
            "Page https://www.amazon.com/Apple-iPhone-11-64GB-Black/product-reviews/B07ZPKN6YR?reviewerType=all_reviews&pageNumber=1 fetched successfully\n",
            "Error fetching page https://www.amazon.com/Apple-iPhone-11-64GB-Black/product-reviews/B07ZPKN6YR?reviewerType=all_reviews&pageNumber=4 - Attempt 1 - Status Code: 520\n",
            "Page https://www.amazon.com/Apple-iPhone-11-64GB-Black/product-reviews/B07ZPKN6YR?reviewerType=all_reviews&pageNumber=4 fetched successfully\n",
            "Total reviews collected: 100\n"
          ]
        }
      ]
    },
    {
      "cell_type": "code",
      "source": [
        "print(review_data)"
      ],
      "metadata": {
        "colab": {
          "base_uri": "https://localhost:8080/"
        },
        "id": "hr7ICDNYb_FQ",
        "outputId": "767b86c2-cd0e-491b-94b1-cf36ea531b2d"
      },
      "execution_count": 20,
      "outputs": [
        {
          "output_type": "stream",
          "name": "stdout",
          "text": [
            "                                              reviews\n",
            "0   \\nMy iPhone 6 died and was only iOS 10 so it w...\n",
            "1   \\nThe renewed iPhone 11 itself is in great con...\n",
            "2   \\nI'll be honest with you, at first I was a bi...\n",
            "3   \\nI recently purchased the renewed Apple iPhon...\n",
            "4   \\nI purchased this iPhone 11 and paid extra fo...\n",
            "..                                                ...\n",
            "95  \\nthis is probably one of the most useful purc...\n",
            "96  \\ngreat phone and half the price. just put my ...\n",
            "97  \\nThe phone is perfect my son loves it! 🥰 it c...\n",
            "98  \\nIt works so good already I just got it I’m s...\n",
            "99  \\nThis is a great phone. Refurbished is the wa...\n",
            "\n",
            "[100 rows x 1 columns]\n"
          ]
        }
      ]
    },
    {
      "cell_type": "code",
      "source": [
        "# Afficher un review en entier\n",
        "if not review_data.empty:\n",
        "    review = review_data['reviews'].iloc[2]\n",
        "    print(\"Full text of the first review:\\n\", review)\n",
        "else:\n",
        "    print(\"Aucune revue n'a été collectée.\")"
      ],
      "metadata": {
        "colab": {
          "base_uri": "https://localhost:8080/"
        },
        "id": "9OcK4ojYaQK8",
        "outputId": "5a0504e6-9271-495a-b400-a3d2d4e0e0e1"
      },
      "execution_count": 23,
      "outputs": [
        {
          "output_type": "stream",
          "name": "stdout",
          "text": [
            "Full text of the first review:\n",
            " \n",
            "I'll be honest with you, at first I was a bit skeptical. I was told to avoid \"Renewed\" phones because unlike Apple-refurbished phones, different refurbishment factories are sourced online, and the fact there are only stock images rather than actual pictures of the phone someone took. My first concern was from the other reviews I've read that range from 70% battery capacity, to detecting random touch screen inputs, to speakers not working, to vibration modules not working at all, which seemed like buying refurb phones from the Internet is a pretty big gamble. Fortunately, and thankfully, I have found a diamond in the rough. This was a refurb I bought from Stone Digital. This 11 didn't bug me about \"non-genuine Apple parts\" messages, didn't have touch screen problems (at least I put the screen protector on before turning it on for the first time if that helps), Speakers (both external and head speaker) worked fine, SIM card reader worked fine, Battery Capacity was surprisingly at 100%, and Face ID and True Tone ACTUALLY worked! The one and ONLY problem I have, is that there is a small 3-in-a-row group of dead pixels near the bottom of the screen, but is just barely noticeable unless you've been looking at something with Dark Mode on for a while and look closely.Before this 11, I was just using a 6S Plus that I've kept for seven years, and it was long overdue to get at least a better phone. I know its not the latest and greatest iPhone model (given that the 11 is a 4 year-old phone), I was looking at cheap/affordable upgrade options that I would feel comfortable with. I think it was a decent purchase getting this.\n",
            "\n"
          ]
        }
      ]
    }
  ]
}